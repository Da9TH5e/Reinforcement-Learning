{
 "cells": [
  {
   "cell_type": "code",
   "execution_count": null,
   "id": "653101c7-65ed-4ea0-be13-fbe4ff8e8314",
   "metadata": {},
   "outputs": [],
   "source": [
    "import gymnasium as gym\n",
    "from stable_baselines3 import A2C\n",
    "from stable_baselines3.common.callbacks import EvalCallback, StopTrainingOnRewardThreshold\n",
    "from stable_baselines3.common.vec_env import VecFrameStack, VecTransposeImage\n",
    "from stable_baselines3.common.env_util import make_atari_env\n",
    "from stable_baselines3.common.evaluation import evaluate_policy\n",
    "import os"
   ]
  },
  {
   "cell_type": "code",
   "execution_count": null,
   "id": "b3ce1d57-55bc-4cc6-aab9-0d0c778866cb",
   "metadata": {},
   "outputs": [],
   "source": [
    "env_name = \"ALE/Breakout-v5\"\n",
    "def create_env(env_name, n_envs=1):\n",
    "    env = make_atari_env(env_name, n_envs=n_envs, seed=0)\n",
    "    env = VecTransposeImage(env) \n",
    "    env = VecFrameStack(env, n_stack=4)\n",
    "    return env\n",
    "\n",
    "train_env = create_env(env_name, n_envs=4)\n",
    "eval_env = create_env(env_name, n_envs=1)"
   ]
  },
  {
   "cell_type": "code",
   "execution_count": null,
   "id": "8472c01b-a876-4b78-9821-48659f46297c",
   "metadata": {},
   "outputs": [],
   "source": [
    "env = gym.make(env_name, render_mode=\"human\")"
   ]
  },
  {
   "cell_type": "code",
   "execution_count": null,
   "id": "8d167f5e-59a7-4051-a939-d7a8d2c6eb77",
   "metadata": {},
   "outputs": [],
   "source": [
    "episodes = 5\n",
    "env.metadata['render_fps'] = 30\n",
    "for episode in range(1, episodes+1):\n",
    "    obs, _ = env.reset()\n",
    "    done = False\n",
    "    score = 0 \n",
    "    \n",
    "    while not done:\n",
    "        env.render()\n",
    "        action = env.action_space.sample()\n",
    "        obs, reward, done, truncared, info = env.step(action)\n",
    "        score+=reward\n",
    "    print('Episode:{} Score:{}'.format(episode, score))\n",
    "env.close()"
   ]
  },
  {
   "cell_type": "code",
   "execution_count": null,
   "id": "a2a7c7a9-f71a-49c9-8a54-b5b8e015ac6d",
   "metadata": {},
   "outputs": [],
   "source": [
    "log_path = os.path.join('Training', 'Logs')\n",
    "model = A2C(\"CnnPolicy\", train_env, verbose=1, tensorboard_log=log_path)"
   ]
  },
  {
   "cell_type": "code",
   "execution_count": null,
   "id": "c84666bd-7a51-419c-9d26-e60078c0327a",
   "metadata": {},
   "outputs": [],
   "source": [
    "model.learn(total_timesteps=100000)"
   ]
  },
  {
   "cell_type": "code",
   "execution_count": null,
   "id": "ad3a581c-d012-47a3-92e0-ae6fe27fb919",
   "metadata": {},
   "outputs": [],
   "source": [
    "a2c_path = os.path.join('Training', 'Saved Models', 'a2c_breakout_v5')\n",
    "model.save(a2c_path)"
   ]
  },
  {
   "cell_type": "code",
   "execution_count": null,
   "id": "647defab-c939-47cc-a60f-de4f3d185c67",
   "metadata": {},
   "outputs": [],
   "source": [
    "evaluate_policy(model, eval_env, n_eval_episodes=50, render = True)"
   ]
  },
  {
   "cell_type": "code",
   "execution_count": null,
   "id": "64301efa-1fcf-4291-be52-ac819c59260a",
   "metadata": {},
   "outputs": [],
   "source": [
    "save_path = os.path.join('Training', 'Saved Models')\n",
    "stop_callback = StopTrainingOnRewardThreshold(reward_threshold=20, verbose=1)\n",
    "eval_callback = EvalCallback(eval_env, \n",
    "                             callback_on_new_best=stop_callback, \n",
    "                             eval_freq=10000, \n",
    "                             best_model_save_path=save_path, \n",
    "                             verbose=1)"
   ]
  },
  {
   "cell_type": "code",
   "execution_count": null,
   "id": "b991443c-799d-49fb-ac0c-36cba70449a0",
   "metadata": {},
   "outputs": [],
   "source": [
    "train_env = create_env(env_name, n_envs=4)\n",
    "model = A2C('CnnPolicy', train_env, verbose=1, tensorboard_log=log_path, policy_kwargs={\n",
    "    'net_arch': {\n",
    "        'pi': [128, 128, 128, 128],\n",
    "        'vf': [128, 128, 128, 128]\n",
    "    }\n",
    "})"
   ]
  },
  {
   "cell_type": "code",
   "execution_count": null,
   "id": "35b285be-f943-4167-93a5-9626dc9e117a",
   "metadata": {},
   "outputs": [],
   "source": [
    "model.learn(total_timesteps=20000, callback=eval_callback)"
   ]
  },
  {
   "cell_type": "code",
   "execution_count": null,
   "id": "3089a940-e4a3-4bb0-9ae4-b4df5eeaa21e",
   "metadata": {},
   "outputs": [],
   "source": []
  }
 ],
 "metadata": {
  "kernelspec": {
   "display_name": "Python 3 (ipykernel)",
   "language": "python",
   "name": "python3"
  },
  "language_info": {
   "codemirror_mode": {
    "name": "ipython",
    "version": 3
   },
   "file_extension": ".py",
   "mimetype": "text/x-python",
   "name": "python",
   "nbconvert_exporter": "python",
   "pygments_lexer": "ipython3",
   "version": "3.10.14"
  }
 },
 "nbformat": 4,
 "nbformat_minor": 5
}
