{
 "cells": [
  {
   "cell_type": "code",
   "execution_count": null,
   "id": "b6b68cb3-3eb1-4a63-b639-1daff16f4f37",
   "metadata": {},
   "outputs": [],
   "source": [
    "import os\n",
    "import gymnasium as gym\n",
    "from stable_baselines3 import PPO\n",
    "from stable_baselines3.common.vec_env import DummyVecEnv\n",
    "from stable_baselines3.common.evaluation import evaluate_policy"
   ]
  },
  {
   "cell_type": "code",
   "execution_count": null,
   "id": "f58bc4ff-c539-455b-832a-ab6d6082db72",
   "metadata": {},
   "outputs": [],
   "source": [
    "env_name = \"CarRacing-v2\"\n",
    "env = gym.make(env_name, render_mode=\"human\")"
   ]
  },
  {
   "cell_type": "code",
   "execution_count": null,
   "id": "c43c0a00-7737-4f0f-9bee-22f8a9e84200",
   "metadata": {},
   "outputs": [],
   "source": [
    "env.metadata['render_fps'] = 30\n",
    "episodes = 5 \n",
    "for episode in range(1, episodes+1):\n",
    "    obs, info = env.reset()\n",
    "    terminated, truncated = False, False\n",
    "    score = 0\n",
    "\n",
    "    while not (terminated or truncated):\n",
    "        env.render()\n",
    "        action = env.action_space.sample()\n",
    "        obs, info, reward, truncated, terminated = env.step(action)\n",
    "        score = score + reward\n",
    "    print(\"Episodes: {}, Score:{} \".format(episode, score))\n",
    "env.close()"
   ]
  },
  {
   "cell_type": "code",
   "execution_count": null,
   "id": "d7e7c48d-362e-4a0c-b86a-4a3079ebeabc",
   "metadata": {},
   "outputs": [],
   "source": [
    "env = gym.make(env_name, render_mode = \"human\")\n",
    "env = DummyVecEnv([lambda: env])"
   ]
  },
  {
   "cell_type": "code",
   "execution_count": null,
   "id": "f33f27a6-238e-47da-9d41-fc0d68c0cb87",
   "metadata": {},
   "outputs": [],
   "source": [
    "log_path = os.path.join('Training', 'Logs')\n",
    "model = PPO('CnnPolicy', env, verbose=1, tensorboard_log=log_path)"
   ]
  },
  {
   "cell_type": "code",
   "execution_count": null,
   "id": "9d0edcbd-326c-44cb-801d-6189671711c8",
   "metadata": {},
   "outputs": [],
   "source": [
    "model.learn(total_timesteps=400000)"
   ]
  },
  {
   "cell_type": "code",
   "execution_count": null,
   "id": "17f68106-ef12-4e2a-b382-58768b2df5ee",
   "metadata": {},
   "outputs": [],
   "source": [
    "ppo_path = os.path.join('Training', 'Saved Models', 'Car-Racing_v2')\n",
    "model.save(ppo_path)"
   ]
  },
  {
   "cell_type": "code",
   "execution_count": null,
   "id": "75b943fe-a331-4daa-b2a1-65d2582a2f0a",
   "metadata": {},
   "outputs": [],
   "source": [
    "evaluate_policy(model, env, n_eval_episodes = 10, render=True)"
   ]
  },
  {
   "cell_type": "code",
   "execution_count": null,
   "id": "c4974f9b-9e21-41fe-92ba-60494d127edc",
   "metadata": {},
   "outputs": [],
   "source": []
  },
  {
   "cell_type": "code",
   "execution_count": null,
   "id": "5d7d4d75-1087-4ee9-9a10-65e70b6a3752",
   "metadata": {},
   "outputs": [],
   "source": []
  }
 ],
 "metadata": {
  "kernelspec": {
   "display_name": "Python 3 (ipykernel)",
   "language": "python",
   "name": "python3"
  },
  "language_info": {
   "codemirror_mode": {
    "name": "ipython",
    "version": 3
   },
   "file_extension": ".py",
   "mimetype": "text/x-python",
   "name": "python",
   "nbconvert_exporter": "python",
   "pygments_lexer": "ipython3",
   "version": "3.10.14"
  }
 },
 "nbformat": 4,
 "nbformat_minor": 5
}
